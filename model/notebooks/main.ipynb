{
 "cells": [
  {
   "cell_type": "code",
   "execution_count": 8,
   "metadata": {},
   "outputs": [],
   "source": [
    "from pyspark.sql import SparkSession\n",
    "from pyspark.ml.feature import StringIndexer, OneHotEncoder, VectorAssembler\n",
    "from pyspark.ml.classification import LogisticRegression\n",
    "from pyspark.ml.evaluation import BinaryClassificationEvaluator\n",
    "from pyspark.sql.functions import col"
   ]
  },
  {
   "cell_type": "code",
   "execution_count": 9,
   "metadata": {},
   "outputs": [],
   "source": [
    "spark = SparkSession.builder \\\n",
    "    .master(\"local[*]\") \\\n",
    "    .appName(\"MLlibTrain\") \\\n",
    "    .getOrCreate()"
   ]
  },
  {
   "cell_type": "code",
   "execution_count": 10,
   "metadata": {
    "scrolled": true
   },
   "outputs": [
    {
     "name": "stdout",
     "output_type": "stream",
     "text": [
      "+---+----------+----+-------------------+-----------------------+----------------------+-----------+---------------+---------------+---+---+---+---+---+\n",
      "|UDI|Product ID|Type|Air temperature [K]|Process temperature [K]|Rotational speed [rpm]|Torque [Nm]|Tool wear [min]|Machine failure|TWF|HDF|PWF|OSF|RNF|\n",
      "+---+----------+----+-------------------+-----------------------+----------------------+-----------+---------------+---------------+---+---+---+---+---+\n",
      "|  1|    M14860|   M|              298.1|                  308.6|                  1551|       42.8|              0|              0|  0|  0|  0|  0|  0|\n",
      "|  2|    L47181|   L|              298.2|                  308.7|                  1408|       46.3|              3|              0|  0|  0|  0|  0|  0|\n",
      "|  3|    L47182|   L|              298.1|                  308.5|                  1498|       49.4|              5|              0|  0|  0|  0|  0|  0|\n",
      "|  4|    L47183|   L|              298.2|                  308.6|                  1433|       39.5|              7|              0|  0|  0|  0|  0|  0|\n",
      "|  5|    L47184|   L|              298.2|                  308.7|                  1408|       40.0|              9|              0|  0|  0|  0|  0|  0|\n",
      "|  6|    M14865|   M|              298.1|                  308.6|                  1425|       41.9|             11|              0|  0|  0|  0|  0|  0|\n",
      "|  7|    L47186|   L|              298.1|                  308.6|                  1558|       42.4|             14|              0|  0|  0|  0|  0|  0|\n",
      "|  8|    L47187|   L|              298.1|                  308.6|                  1527|       40.2|             16|              0|  0|  0|  0|  0|  0|\n",
      "|  9|    M14868|   M|              298.3|                  308.7|                  1667|       28.6|             18|              0|  0|  0|  0|  0|  0|\n",
      "| 10|    M14869|   M|              298.5|                  309.0|                  1741|       28.0|             21|              0|  0|  0|  0|  0|  0|\n",
      "| 11|    H29424|   H|              298.4|                  308.9|                  1782|       23.9|             24|              0|  0|  0|  0|  0|  0|\n",
      "| 12|    H29425|   H|              298.6|                  309.1|                  1423|       44.3|             29|              0|  0|  0|  0|  0|  0|\n",
      "| 13|    M14872|   M|              298.6|                  309.1|                  1339|       51.1|             34|              0|  0|  0|  0|  0|  0|\n",
      "| 14|    M14873|   M|              298.6|                  309.2|                  1742|       30.0|             37|              0|  0|  0|  0|  0|  0|\n",
      "| 15|    L47194|   L|              298.6|                  309.2|                  2035|       19.6|             40|              0|  0|  0|  0|  0|  0|\n",
      "| 16|    L47195|   L|              298.6|                  309.2|                  1542|       48.4|             42|              0|  0|  0|  0|  0|  0|\n",
      "| 17|    M14876|   M|              298.6|                  309.2|                  1311|       46.6|             44|              0|  0|  0|  0|  0|  0|\n",
      "| 18|    M14877|   M|              298.7|                  309.2|                  1410|       45.6|             47|              0|  0|  0|  0|  0|  0|\n",
      "| 19|    H29432|   H|              298.8|                  309.2|                  1306|       54.5|             50|              0|  0|  0|  0|  0|  0|\n",
      "| 20|    M14879|   M|              298.9|                  309.3|                  1632|       32.5|             55|              0|  0|  0|  0|  0|  0|\n",
      "+---+----------+----+-------------------+-----------------------+----------------------+-----------+---------------+---------------+---+---+---+---+---+\n",
      "only showing top 20 rows\n",
      "\n"
     ]
    }
   ],
   "source": [
    "# Read csv file\n",
    "data = spark.read.csv(\"/home/jovyan/work/ai4i2020.csv\", header=True, inferSchema=True, sep=\",\")\n",
    "\n",
    "data.show()"
   ]
  },
  {
   "cell_type": "code",
   "execution_count": 11,
   "metadata": {},
   "outputs": [],
   "source": [
    "# Colunas de features numéricas\n",
    "feature_cols = [\"Air temperature [K]\", \"Process temperature [K]\", \"Rotational speed [rpm]\", \"Torque [Nm]\", \"Tool wear [min]\"]\n",
    "\n",
    "# Coluna categórica a ser \"dummyficada\"\n",
    "cat_col = \"Type\"\n",
    "\n",
    "# Índice para a coluna categórica\n",
    "indexer = StringIndexer(inputCol=cat_col, outputCol=cat_col+\"_index\")\n",
    "data = indexer.fit(data).transform(data)\n",
    "\n",
    "# One-Hot Encoding para a coluna categórica\n",
    "encoder = OneHotEncoder(inputCol=cat_col+\"_index\", outputCol=cat_col+\"_vec\")\n",
    "data = encoder.fit(data).transform(data)\n",
    "\n",
    "# Agora temos um vetor codificado para \"type\"\n",
    "# Atualizamos o conjunto de features para incluir também o type_vec\n",
    "final_feature_cols = feature_cols + [cat_col+\"_vec\"]\n",
    "\n",
    "assembler = VectorAssembler(inputCols=final_feature_cols, outputCol=\"features\")\n",
    "data = assembler.transform(data)"
   ]
  },
  {
   "cell_type": "code",
   "execution_count": 14,
   "metadata": {},
   "outputs": [
    {
     "ename": "AssertionError",
     "evalue": "",
     "output_type": "error",
     "traceback": [
      "\u001b[0;31m---------------------------------------------------------------------------\u001b[0m",
      "\u001b[0;31mAssertionError\u001b[0m                            Traceback (most recent call last)",
      "Cell \u001b[0;32mIn[14], line 13\u001b[0m\n\u001b[1;32m      9\u001b[0m evaluations \u001b[38;5;241m=\u001b[39m {}\n\u001b[1;32m     11\u001b[0m \u001b[38;5;66;03m# Avaliador binário - podemos usar AUC e/ou Accuracy\u001b[39;00m\n\u001b[1;32m     12\u001b[0m \u001b[38;5;66;03m# Por padrão BinaryClassificationEvaluator avalia AUC do ROC.\u001b[39;00m\n\u001b[0;32m---> 13\u001b[0m auc_evaluator \u001b[38;5;241m=\u001b[39m \u001b[43mBinaryClassificationEvaluator\u001b[49m\u001b[43m(\u001b[49m\u001b[43mlabelCol\u001b[49m\u001b[38;5;241;43m=\u001b[39;49m\u001b[38;5;124;43m\"\u001b[39;49m\u001b[38;5;124;43mlabel\u001b[39;49m\u001b[38;5;124;43m\"\u001b[39;49m\u001b[43m,\u001b[49m\u001b[43m \u001b[49m\u001b[43mrawPredictionCol\u001b[49m\u001b[38;5;241;43m=\u001b[39;49m\u001b[38;5;124;43m\"\u001b[39;49m\u001b[38;5;124;43mrawPrediction\u001b[39;49m\u001b[38;5;124;43m\"\u001b[39;49m\u001b[43m,\u001b[49m\u001b[43m \u001b[49m\u001b[43mmetricName\u001b[49m\u001b[38;5;241;43m=\u001b[39;49m\u001b[38;5;124;43m\"\u001b[39;49m\u001b[38;5;124;43mareaUnderROC\u001b[39;49m\u001b[38;5;124;43m\"\u001b[39;49m\u001b[43m)\u001b[49m\n",
      "File \u001b[0;32m/usr/local/spark/python/pyspark/__init__.py:139\u001b[0m, in \u001b[0;36mkeyword_only.<locals>.wrapper\u001b[0;34m(self, *args, **kwargs)\u001b[0m\n\u001b[1;32m    137\u001b[0m     \u001b[38;5;28;01mraise\u001b[39;00m \u001b[38;5;167;01mTypeError\u001b[39;00m(\u001b[38;5;124m\"\u001b[39m\u001b[38;5;124mMethod \u001b[39m\u001b[38;5;132;01m%s\u001b[39;00m\u001b[38;5;124m forces keyword arguments.\u001b[39m\u001b[38;5;124m\"\u001b[39m \u001b[38;5;241m%\u001b[39m func\u001b[38;5;241m.\u001b[39m\u001b[38;5;18m__name__\u001b[39m)\n\u001b[1;32m    138\u001b[0m \u001b[38;5;28mself\u001b[39m\u001b[38;5;241m.\u001b[39m_input_kwargs \u001b[38;5;241m=\u001b[39m kwargs\n\u001b[0;32m--> 139\u001b[0m \u001b[38;5;28;01mreturn\u001b[39;00m \u001b[43mfunc\u001b[49m\u001b[43m(\u001b[49m\u001b[38;5;28;43mself\u001b[39;49m\u001b[43m,\u001b[49m\u001b[43m \u001b[49m\u001b[38;5;241;43m*\u001b[39;49m\u001b[38;5;241;43m*\u001b[39;49m\u001b[43mkwargs\u001b[49m\u001b[43m)\u001b[49m\n",
      "File \u001b[0;32m/usr/local/spark/python/pyspark/ml/evaluation.py:239\u001b[0m, in \u001b[0;36mBinaryClassificationEvaluator.__init__\u001b[0;34m(self, rawPredictionCol, labelCol, metricName, weightCol, numBins)\u001b[0m\n\u001b[1;32m    234\u001b[0m \u001b[38;5;250m\u001b[39m\u001b[38;5;124;03m\"\"\"\u001b[39;00m\n\u001b[1;32m    235\u001b[0m \u001b[38;5;124;03m__init__(self, \\\\*, rawPredictionCol=\"rawPrediction\", labelCol=\"label\", \\\u001b[39;00m\n\u001b[1;32m    236\u001b[0m \u001b[38;5;124;03m         metricName=\"areaUnderROC\", weightCol=None, numBins=1000)\u001b[39;00m\n\u001b[1;32m    237\u001b[0m \u001b[38;5;124;03m\"\"\"\u001b[39;00m\n\u001b[1;32m    238\u001b[0m \u001b[38;5;28msuper\u001b[39m(BinaryClassificationEvaluator, \u001b[38;5;28mself\u001b[39m)\u001b[38;5;241m.\u001b[39m\u001b[38;5;21m__init__\u001b[39m()\n\u001b[0;32m--> 239\u001b[0m \u001b[38;5;28mself\u001b[39m\u001b[38;5;241m.\u001b[39m_java_obj \u001b[38;5;241m=\u001b[39m \u001b[38;5;28;43mself\u001b[39;49m\u001b[38;5;241;43m.\u001b[39;49m\u001b[43m_new_java_obj\u001b[49m\u001b[43m(\u001b[49m\n\u001b[1;32m    240\u001b[0m \u001b[43m    \u001b[49m\u001b[38;5;124;43m\"\u001b[39;49m\u001b[38;5;124;43morg.apache.spark.ml.evaluation.BinaryClassificationEvaluator\u001b[39;49m\u001b[38;5;124;43m\"\u001b[39;49m\u001b[43m,\u001b[49m\u001b[43m \u001b[49m\u001b[38;5;28;43mself\u001b[39;49m\u001b[38;5;241;43m.\u001b[39;49m\u001b[43muid\u001b[49m\n\u001b[1;32m    241\u001b[0m \u001b[43m\u001b[49m\u001b[43m)\u001b[49m\n\u001b[1;32m    242\u001b[0m \u001b[38;5;28mself\u001b[39m\u001b[38;5;241m.\u001b[39m_setDefault(metricName\u001b[38;5;241m=\u001b[39m\u001b[38;5;124m\"\u001b[39m\u001b[38;5;124mareaUnderROC\u001b[39m\u001b[38;5;124m\"\u001b[39m, numBins\u001b[38;5;241m=\u001b[39m\u001b[38;5;241m1000\u001b[39m)\n\u001b[1;32m    243\u001b[0m kwargs \u001b[38;5;241m=\u001b[39m \u001b[38;5;28mself\u001b[39m\u001b[38;5;241m.\u001b[39m_input_kwargs\n",
      "File \u001b[0;32m/usr/local/spark/python/pyspark/ml/wrapper.py:80\u001b[0m, in \u001b[0;36mJavaWrapper._new_java_obj\u001b[0;34m(java_class, *args)\u001b[0m\n\u001b[1;32m     76\u001b[0m \u001b[38;5;250m\u001b[39m\u001b[38;5;124;03m\"\"\"\u001b[39;00m\n\u001b[1;32m     77\u001b[0m \u001b[38;5;124;03mReturns a new Java object.\u001b[39;00m\n\u001b[1;32m     78\u001b[0m \u001b[38;5;124;03m\"\"\"\u001b[39;00m\n\u001b[1;32m     79\u001b[0m sc \u001b[38;5;241m=\u001b[39m SparkContext\u001b[38;5;241m.\u001b[39m_active_spark_context\n\u001b[0;32m---> 80\u001b[0m \u001b[38;5;28;01massert\u001b[39;00m sc \u001b[38;5;129;01mis\u001b[39;00m \u001b[38;5;129;01mnot\u001b[39;00m \u001b[38;5;28;01mNone\u001b[39;00m\n\u001b[1;32m     82\u001b[0m java_obj \u001b[38;5;241m=\u001b[39m _jvm()\n\u001b[1;32m     83\u001b[0m \u001b[38;5;28;01mfor\u001b[39;00m name \u001b[38;5;129;01min\u001b[39;00m java_class\u001b[38;5;241m.\u001b[39msplit(\u001b[38;5;124m\"\u001b[39m\u001b[38;5;124m.\u001b[39m\u001b[38;5;124m\"\u001b[39m):\n",
      "\u001b[0;31mAssertionError\u001b[0m: "
     ]
    }
   ],
   "source": [
    "\n",
    "# Lista de falhas para prever\n",
    "labels = [\"TWF\", \"HDF\", \"PWF\", \"OSF\", \"RNF\"]\n",
    "\n",
    "# Divide dados em treino e teste uma única vez, se quiser usar o mesmo split\n",
    "train_data, test_data = data.randomSplit([0.8, 0.2], seed=42)\n",
    "\n",
    "# Dicionário para guardar modelos e avaliações\n",
    "models = {}\n",
    "evaluations = {}\n",
    "\n",
    "# Avaliador binário - podemos usar AUC e/ou Accuracy\n",
    "# Por padrão BinaryClassificationEvaluator avalia AUC do ROC.\n",
    "auc_evaluator = BinaryClassificationEvaluator(labelCol=\"label\", rawPredictionCol=\"rawPrediction\", metricName=\"areaUnderROC\")\n"
   ]
  },
  {
   "cell_type": "code",
   "execution_count": 13,
   "metadata": {},
   "outputs": [
    {
     "name": "stdout",
     "output_type": "stream",
     "text": [
      "Resultados para TWF: AUC = 0.9642, Accuracy = 0.9958\n",
      "Resultados para HDF: AUC = 0.9978, Accuracy = 0.9917\n",
      "Resultados para PWF: AUC = 0.9816, Accuracy = 0.9964\n",
      "Resultados para OSF: AUC = 0.9997, Accuracy = 0.9969\n",
      "Resultados para RNF: AUC = 0.4041, Accuracy = 0.9984\n"
     ]
    }
   ],
   "source": [
    "# Para accuracy, precisamos de MulticlassClassificationEvaluator (mesmo sendo binário)\n",
    "from pyspark.ml.evaluation import MulticlassClassificationEvaluator\n",
    "acc_evaluator = MulticlassClassificationEvaluator(labelCol=\"label\", predictionCol=\"prediction\", metricName=\"accuracy\")\n",
    "\n",
    "for label in labels:\n",
    "    # Cria um DF temporário com a coluna alvo renomeada para 'label'\n",
    "    train_df = train_data.withColumnRenamed(label, \"label\")\n",
    "    test_df = test_data.withColumnRenamed(label, \"label\")\n",
    "\n",
    "    # Treina um modelo de regressão logística (binária)\n",
    "    lr = LogisticRegression(featuresCol=\"features\", labelCol=\"label\", maxIter=10)\n",
    "    model = lr.fit(train_df)\n",
    "\n",
    "    # Previsões no conjunto de teste\n",
    "    predictions = model.transform(test_df)\n",
    "\n",
    "    # Avaliação\n",
    "    auc = auc_evaluator.evaluate(predictions)\n",
    "    acc = acc_evaluator.evaluate(predictions)\n",
    "\n",
    "    # Guarda o modelo e métricas\n",
    "    models[label] = model\n",
    "    evaluations[label] = {\"AUC\": auc, \"Accuracy\": acc}\n",
    "\n",
    "    # Renomeia de volta a coluna label para o nome original\n",
    "    test_df = test_df.withColumnRenamed(\"label\", label)\n",
    "\n",
    "# Exibe os resultados de avaliação\n",
    "for label, metrics in evaluations.items():\n",
    "    print(f\"Resultados para {label}: AUC = {metrics['AUC']:.4f}, Accuracy = {metrics['Accuracy']:.4f}\")\n",
    "\n",
    "spark.stop()"
   ]
  },
  {
   "cell_type": "code",
   "execution_count": null,
   "metadata": {},
   "outputs": [],
   "source": []
  }
 ],
 "metadata": {
  "kernelspec": {
   "display_name": "Python 3 (ipykernel)",
   "language": "python",
   "name": "python3"
  },
  "language_info": {
   "codemirror_mode": {
    "name": "ipython",
    "version": 3
   },
   "file_extension": ".py",
   "mimetype": "text/x-python",
   "name": "python",
   "nbconvert_exporter": "python",
   "pygments_lexer": "ipython3",
   "version": "3.11.6"
  }
 },
 "nbformat": 4,
 "nbformat_minor": 4
}
